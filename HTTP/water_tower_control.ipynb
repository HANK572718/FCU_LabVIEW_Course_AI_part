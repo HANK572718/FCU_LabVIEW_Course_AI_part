{
 "cells": [
  {
   "cell_type": "code",
   "execution_count": 2,
   "metadata": {},
   "outputs": [],
   "source": [
    "from rich import print as pprint\n",
    "import requests"
   ]
  },
  {
   "cell_type": "markdown",
   "metadata": {},
   "source": [
    "GET  \n",
    "http://127.0.0.1:9090/Http_Water_Tower/Simulate_Initialize  \n",
    "http://127.0.0.1:9090/Http_Water_Tower/Read_All_DBL  \n",
    "http://127.0.0.1:9090/Http_Water_Tower/Read_All_Boolean  \n"
   ]
  },
  {
   "cell_type": "code",
   "execution_count": 3,
   "metadata": {},
   "outputs": [
    {
     "data": {
      "text/html": [
       "<pre style=\"white-space:pre;overflow-x:auto;line-height:normal;font-family:Menlo,'DejaVu Sans Mono',consolas,'Courier New',monospace\">Status Code: <span style=\"color: #008080; text-decoration-color: #008080; font-weight: bold\">200</span>\n",
       "</pre>\n"
      ],
      "text/plain": [
       "Status Code: \u001b[1;36m200\u001b[0m\n"
      ]
     },
     "metadata": {},
     "output_type": "display_data"
    },
    {
     "data": {
      "text/html": [
       "<pre style=\"white-space:pre;overflow-x:auto;line-height:normal;font-family:Menlo,'DejaVu Sans Mono',consolas,'Courier New',monospace\">Response Text: <span style=\"font-weight: bold\">{}</span>\n",
       "</pre>\n"
      ],
      "text/plain": [
       "Response Text: \u001b[1m{\u001b[0m\u001b[1m}\u001b[0m\n"
      ]
     },
     "metadata": {},
     "output_type": "display_data"
    },
    {
     "data": {
      "text/html": [
       "<pre style=\"white-space:pre;overflow-x:auto;line-height:normal;font-family:Menlo,'DejaVu Sans Mono',consolas,'Courier New',monospace\">JSON Response:\n",
       "<span style=\"font-weight: bold\">{}</span>\n",
       "</pre>\n"
      ],
      "text/plain": [
       "JSON Response:\n",
       "\u001b[1m{\u001b[0m\u001b[1m}\u001b[0m\n"
      ]
     },
     "metadata": {},
     "output_type": "display_data"
    }
   ],
   "source": [
    "response = requests.get('http://127.0.0.1:9090/Http_Water_Tower/Simulate_Initialize')\n",
    "# 查看狀態碼\n",
    "pprint('Status Code:', response.status_code)\n",
    "# 查看請求的內容\n",
    "pprint('Response Text:', response.text)\n",
    "# 解析 JSON 響應   \n",
    "pprint('JSON Response:', response.json())"
   ]
  },
  {
   "cell_type": "code",
   "execution_count": 15,
   "metadata": {},
   "outputs": [
    {
     "data": {
      "text/html": [
       "<pre style=\"white-space:pre;overflow-x:auto;line-height:normal;font-family:Menlo,'DejaVu Sans Mono',consolas,'Courier New',monospace\">JSON Response:\n",
       "<span style=\"font-weight: bold\">{</span><span style=\"color: #008000; text-decoration-color: #008000\">'Read DBL Array'</span>: <span style=\"font-weight: bold\">[</span><span style=\"color: #008080; text-decoration-color: #008080; font-weight: bold\">70.5500000000001</span>, <span style=\"color: #008080; text-decoration-color: #008080; font-weight: bold\">8.1</span>, <span style=\"color: #008080; text-decoration-color: #008080; font-weight: bold\">3.2</span>, <span style=\"color: #008080; text-decoration-color: #008080; font-weight: bold\">85.3</span>, <span style=\"color: #008080; text-decoration-color: #008080; font-weight: bold\">25.5</span><span style=\"font-weight: bold\">]}</span>\n",
       "</pre>\n"
      ],
      "text/plain": [
       "JSON Response:\n",
       "\u001b[1m{\u001b[0m\u001b[32m'Read DBL Array'\u001b[0m: \u001b[1m[\u001b[0m\u001b[1;36m70.5500000000001\u001b[0m, \u001b[1;36m8.1\u001b[0m, \u001b[1;36m3.2\u001b[0m, \u001b[1;36m85.3\u001b[0m, \u001b[1;36m25.5\u001b[0m\u001b[1m]\u001b[0m\u001b[1m}\u001b[0m\n"
      ]
     },
     "metadata": {},
     "output_type": "display_data"
    }
   ],
   "source": [
    "\n",
    "response = requests.get('http://127.0.0.1:9090/Http_Water_Tower/Read_All_DBL')\n",
    "pprint('JSON Response:', response.json())"
   ]
  },
  {
   "cell_type": "code",
   "execution_count": 27,
   "metadata": {},
   "outputs": [
    {
     "data": {
      "text/html": [
       "<pre style=\"white-space:pre;overflow-x:auto;line-height:normal;font-family:Menlo,'DejaVu Sans Mono',consolas,'Courier New',monospace\">JSON Response:\n",
       "<span style=\"font-weight: bold\">{</span><span style=\"color: #008000; text-decoration-color: #008000\">'Read Bool Array'</span>: <span style=\"font-weight: bold\">[</span><span style=\"color: #00ff00; text-decoration-color: #00ff00; font-style: italic\">True</span>, <span style=\"color: #00ff00; text-decoration-color: #00ff00; font-style: italic\">True</span>, <span style=\"color: #ff0000; text-decoration-color: #ff0000; font-style: italic\">False</span>, <span style=\"color: #ff0000; text-decoration-color: #ff0000; font-style: italic\">False</span><span style=\"font-weight: bold\">]}</span>\n",
       "</pre>\n"
      ],
      "text/plain": [
       "JSON Response:\n",
       "\u001b[1m{\u001b[0m\u001b[32m'Read Bool Array'\u001b[0m: \u001b[1m[\u001b[0m\u001b[3;92mTrue\u001b[0m, \u001b[3;92mTrue\u001b[0m, \u001b[3;91mFalse\u001b[0m, \u001b[3;91mFalse\u001b[0m\u001b[1m]\u001b[0m\u001b[1m}\u001b[0m\n"
      ]
     },
     "metadata": {},
     "output_type": "display_data"
    }
   ],
   "source": [
    "response = requests.get('http://127.0.0.1:9090/Http_Water_Tower/Read_All_Boolean')\n",
    "pprint('JSON Response:', response.json())"
   ]
  },
  {
   "cell_type": "markdown",
   "metadata": {},
   "source": [
    "POST  \n",
    "http://127.0.0.1:9090/Http_Water_Tower/Set_InputWaterSwitch?Web_Input_Switch={value}  \n",
    "http://127.0.0.1:9090/Http_Water_Tower/Set_OutputWaterSwitch?Web_Output_Switch={value}  \n",
    "http://127.0.0.1:9090/Http_Water_Tower/Set_UpLevel?W_UplevelSetting={value}  \n",
    "http://127.0.0.1:9090/Http_Water_Tower/Set_LowLevel?W_LowLevelSetting={value}  \n",
    "http://127.0.0.1:9090/Http_Water_Tower/Set_IWSpeed?W_IWSpeed={value}  \n",
    "http://127.0.0.1:9090/Http_Water_Tower/Set_OWSpeed?W_OWSpeed={value}  "
   ]
  },
  {
   "cell_type": "code",
   "execution_count": 28,
   "metadata": {},
   "outputs": [],
   "source": [
    "data={\n",
    "    \"device\":\"EQPT_NO\"\n",
    "}"
   ]
  },
  {
   "cell_type": "code",
   "execution_count": 35,
   "metadata": {},
   "outputs": [],
   "source": [
    "#Web_Input_Switch\n",
    "value = 1\n",
    "response = requests.post(f'http://127.0.0.1:9090/Http_Water_Tower/Set_InputWaterSwitch?Web_Input_Switch={value}')"
   ]
  },
  {
   "cell_type": "code",
   "execution_count": 34,
   "metadata": {},
   "outputs": [],
   "source": [
    "#Web_Output_Switch\n",
    "value = 1\n",
    "response = requests.post(f'http://127.0.0.1:9090/Http_Water_Tower/Set_OutputWaterSwitch?Web_Output_Switch={value}')"
   ]
  },
  {
   "cell_type": "code",
   "execution_count": 66,
   "metadata": {},
   "outputs": [],
   "source": [
    "#W_LowLevelSetting\n",
    "value = 31.0\n",
    "response = requests.post(f'http://127.0.0.1:9090/Http_Water_Tower/Set_LowLevel?W_LowLevelSetting={value}', json=data)"
   ]
  },
  {
   "cell_type": "code",
   "execution_count": 31,
   "metadata": {},
   "outputs": [],
   "source": [
    "#W_UpLevelSetting\n",
    "value = 77.0\n",
    "response = requests.post(f'http://127.0.0.1:9090/Http_Water_Tower/Set_UpLevel?W_UpLevelSetting={value}', json=data)"
   ]
  },
  {
   "cell_type": "code",
   "execution_count": 46,
   "metadata": {},
   "outputs": [],
   "source": [
    "# [[重要]]錯誤的輸入會使面板上的原件錯誤\n",
    "# #W_UpLevelSetting\n",
    "# value = 77.8\n",
    "# response = requests.post(f'http://127.0.0.1:9090/Http_Water_Tower/Set_LowLevel?W_UpLevelSetting={value}', json=data)"
   ]
  },
  {
   "cell_type": "code",
   "execution_count": 33,
   "metadata": {},
   "outputs": [],
   "source": [
    "#W_IWSpeed\n",
    "value = 20\n",
    "response = requests.post(f'http://127.0.0.1:9090/Http_Water_Tower/Set_IWSpeed?W_IWSpeed={value}')"
   ]
  },
  {
   "cell_type": "code",
   "execution_count": 32,
   "metadata": {},
   "outputs": [],
   "source": [
    "#W_OWSpeed\n",
    "value = 40\n",
    "response = requests.post(f'http://127.0.0.1:9090/Http_Water_Tower/Set_OWSpeed?W_OWSpeed={value}')\n"
   ]
  },
  {
   "cell_type": "code",
   "execution_count": 73,
   "metadata": {},
   "outputs": [
    {
     "data": {
      "application/vnd.jupyter.widget-view+json": {
       "model_id": "c475206c6df843ab9cddac8bdce4863e",
       "version_major": 2,
       "version_minor": 0
      },
      "text/plain": [
       "Button(description='Set Input Water Switch (0)', style=ButtonStyle())"
      ]
     },
     "metadata": {},
     "output_type": "display_data"
    },
    {
     "data": {
      "application/vnd.jupyter.widget-view+json": {
       "model_id": "87433982b8b14697b187851eec1d3c67",
       "version_major": 2,
       "version_minor": 0
      },
      "text/plain": [
       "FloatSlider(value=31.0, description='Low Level:', step=1.0)"
      ]
     },
     "metadata": {},
     "output_type": "display_data"
    },
    {
     "data": {
      "application/vnd.jupyter.widget-view+json": {
       "model_id": "c488bba1e88a4e6cbe36f6640d38d678",
       "version_major": 2,
       "version_minor": 0
      },
      "text/plain": [
       "FloatSlider(value=77.0, description='Up Level:', step=1.0)"
      ]
     },
     "metadata": {},
     "output_type": "display_data"
    },
    {
     "data": {
      "application/vnd.jupyter.widget-view+json": {
       "model_id": "03cf7135ab2b427087bec1f29e8583d4",
       "version_major": 2,
       "version_minor": 0
      },
      "text/plain": [
       "FloatSlider(value=8.88, description='IW Speed:', max=20.0)"
      ]
     },
     "metadata": {},
     "output_type": "display_data"
    },
    {
     "data": {
      "application/vnd.jupyter.widget-view+json": {
       "model_id": "d862f10a1d82462686631b46e2e4a901",
       "version_major": 2,
       "version_minor": 0
      },
      "text/plain": [
       "FloatSlider(value=3.33, description='OW Speed:', max=20.0)"
      ]
     },
     "metadata": {},
     "output_type": "display_data"
    },
    {
     "data": {
      "application/vnd.jupyter.widget-view+json": {
       "model_id": "7cdfdb6dd73040e58c1ad2bd6b2b966e",
       "version_major": 2,
       "version_minor": 0
      },
      "text/plain": [
       "Output()"
      ]
     },
     "metadata": {},
     "output_type": "display_data"
    }
   ],
   "source": [
    "import requests\n",
    "import ipywidgets as widgets\n",
    "from IPython.display import display, clear_output\n",
    "\n",
    "# 定義輸出區域\n",
    "output = widgets.Output()\n",
    "\n",
    "def send_request(url):\n",
    "    with output:\n",
    "        clear_output()\n",
    "        try:\n",
    "            response = requests.post(url)\n",
    "            print(f\"Response: {response.text} (Status Code: {response.status_code})\")\n",
    "        except Exception as e:\n",
    "            print(f\"Error: {e}\")\n",
    "\n",
    "# Web_Input_Switch 按鈕\n",
    "input_switch_button = widgets.Button(description=\"Set Input Water Switch (0)\")\n",
    "def on_input_switch_clicked(b):\n",
    "    send_request('http://127.0.0.1:9090/Http_Water_Tower/Set_InputWaterSwitch?Web_Input_Switch=0')\n",
    "\n",
    "input_switch_button.on_click(on_input_switch_clicked)\n",
    "\n",
    "\n",
    "\n",
    "# W_LowLevelSetting 滑動條\n",
    "low_level_slider = widgets.FloatSlider(value=31.0, min=0, max=100, step=1.0, description='Low Level:')\n",
    "def on_low_level_change(change):\n",
    "    value = change['new']\n",
    "    send_request(f'http://127.0.0.1:9090/Http_Water_Tower/Set_LowLevel?W_LowLevelSetting={value}')\n",
    "\n",
    "low_level_slider.observe(on_low_level_change, names='value')\n",
    "\n",
    "# W_UpLevelSetting 滑動條\n",
    "up_level_slider = widgets.FloatSlider(value=77.0, min=0, max=100, step=1.0, description='Up Level:')\n",
    "def on_up_level_change(change):\n",
    "    value = change['new']\n",
    "    send_request(f'http://127.0.0.1:9090/Http_Water_Tower/Set_UpLevel?W_UpLevelSetting={value}')\n",
    "\n",
    "up_level_slider.observe(on_up_level_change, names='value')\n",
    "\n",
    "# W_IWSpeed 滑動條\n",
    "iw_speed_slider = widgets.FloatSlider(value=8.88, min=0, max=20, step=0.1, description='IW Speed:')\n",
    "def on_iw_speed_change(change):\n",
    "    value = change['new']\n",
    "    send_request(f'http://127.0.0.1:9090/Http_Water_Tower/Set_IWSpeed?W_IWSpeed={value}')\n",
    "\n",
    "iw_speed_slider.observe(on_iw_speed_change, names='value')\n",
    "\n",
    "# W_OWSpeed 滑動條\n",
    "ow_speed_slider = widgets.FloatSlider(value=3.33, min=0, max=20, step=0.1, description='OW Speed:')\n",
    "def on_ow_speed_change(change):\n",
    "    value = change['new']\n",
    "    send_request(f'http://127.0.0.1:9090/Http_Water_Tower/Set_OWSpeed?W_OWSpeed={value}')\n",
    "\n",
    "ow_speed_slider.observe(on_ow_speed_change, names='value')\n",
    "\n",
    "# 顯示按鈕和滑動條以及輸出區域\n",
    "display(input_switch_button)\n",
    "display(low_level_slider)\n",
    "display(up_level_slider)\n",
    "display(iw_speed_slider)\n",
    "display(ow_speed_slider)\n",
    "display(output)"
   ]
  },
  {
   "cell_type": "code",
   "execution_count": 14,
   "metadata": {},
   "outputs": [
    {
     "data": {
      "application/vnd.jupyter.widget-view+json": {
       "model_id": "803932fcd1ec4a81be1a3d4ce1033778",
       "version_major": 2,
       "version_minor": 0
      },
      "text/plain": [
       "ToggleButton(value=False, description='Input Water Switch', icon='check', tooltip='Toggle Input Water Switch')"
      ]
     },
     "metadata": {},
     "output_type": "display_data"
    },
    {
     "data": {
      "application/vnd.jupyter.widget-view+json": {
       "model_id": "4b9750dfa9b545c2bffed66b64eb201c",
       "version_major": 2,
       "version_minor": 0
      },
      "text/plain": [
       "ToggleButton(value=False, description='Output Water Switch', icon='check', tooltip='Toggle Output Water Switch…"
      ]
     },
     "metadata": {},
     "output_type": "display_data"
    },
    {
     "data": {
      "application/vnd.jupyter.widget-view+json": {
       "model_id": "46433c246ea6468b9ae663cdb2e4f5ae",
       "version_major": 2,
       "version_minor": 0
      },
      "text/plain": [
       "FloatSlider(value=31.0, description='Low Level:', step=1.0)"
      ]
     },
     "metadata": {},
     "output_type": "display_data"
    },
    {
     "data": {
      "application/vnd.jupyter.widget-view+json": {
       "model_id": "0bc0e2ff4070409687860944df782256",
       "version_major": 2,
       "version_minor": 0
      },
      "text/plain": [
       "FloatSlider(value=77.0, description='Up Level:', step=1.0)"
      ]
     },
     "metadata": {},
     "output_type": "display_data"
    },
    {
     "data": {
      "application/vnd.jupyter.widget-view+json": {
       "model_id": "f82ac8ed288545a5bedc419c59ac0672",
       "version_major": 2,
       "version_minor": 0
      },
      "text/plain": [
       "FloatSlider(value=8.88, description='IW Speed:', max=40.0)"
      ]
     },
     "metadata": {},
     "output_type": "display_data"
    },
    {
     "data": {
      "application/vnd.jupyter.widget-view+json": {
       "model_id": "41e5c3d668e94bd4a31d06c7ad2b668b",
       "version_major": 2,
       "version_minor": 0
      },
      "text/plain": [
       "FloatSlider(value=3.33, description='OW Speed:', max=40.0)"
      ]
     },
     "metadata": {},
     "output_type": "display_data"
    },
    {
     "data": {
      "application/vnd.jupyter.widget-view+json": {
       "model_id": "c57a477353dd455696a1b9e2d46ea494",
       "version_major": 2,
       "version_minor": 0
      },
      "text/plain": [
       "Output()"
      ]
     },
     "metadata": {},
     "output_type": "display_data"
    }
   ],
   "source": [
    "import requests\n",
    "import ipywidgets as widgets\n",
    "from IPython.display import display, clear_output\n",
    "\n",
    "# 定義輸出區域\n",
    "output = widgets.Output()\n",
    "\n",
    "def send_request(url):\n",
    "    with output:\n",
    "        clear_output()\n",
    "        try:\n",
    "            response = requests.post(url)\n",
    "            print(f\"Response: {response.text} (Status Code: {response.status_code})\")\n",
    "        except Exception as e:\n",
    "            print(f\"Error: {e}\")\n",
    "\n",
    "# Web_Input_Switch 開關元件\n",
    "input_switch = widgets.ToggleButton(\n",
    "    value=False,  # 初始狀態為關閉\n",
    "    description='Input Water Switch',\n",
    "    button_style='',  # 可以自定義樣式，如 'success', 'info'\n",
    "    tooltip='Toggle Input Water Switch',\n",
    "    icon='check'  # 可以給開關提供一個圖標\n",
    ")\n",
    "\n",
    "def on_input_switch_change(change):\n",
    "    if change['new']:  # 如果開關從關閉變為開啟\n",
    "        send_request('http://127.0.0.1:9090/Http_Water_Tower/Set_InputWaterSwitch?Web_Input_Switch=1')\n",
    "    else:  # 如果開關從開啟變為關閉\n",
    "        send_request('http://127.0.0.1:9090/Http_Water_Tower/Set_InputWaterSwitch?Web_Input_Switch=0')\n",
    "\n",
    "# 監聽開關元件的值變化\n",
    "input_switch.observe(on_input_switch_change, names='value')\n",
    "\n",
    "\n",
    "# Web_Output_Switch 開關元件\n",
    "output_switch = widgets.ToggleButton(\n",
    "    value=False,  # 初始狀態為關閉\n",
    "    description='Output Water Switch',\n",
    "    button_style='',  # 可以自定義樣式，如 'success', 'info'\n",
    "    tooltip='Toggle Output Water Switch',\n",
    "    icon='check'  # 可以給開關提供一個圖標\n",
    ")\n",
    "\n",
    "def on_output_switch_change(change):\n",
    "    if change['new']:  # 如果開關從關閉變為開啟\n",
    "        send_request('http://127.0.0.1:9090/Http_Water_Tower/Set_OutputWaterSwitch?Web_Output_Switch=1')\n",
    "    else:  # 如果開關從開啟變為關閉\n",
    "        send_request('http://127.0.0.1:9090/Http_Water_Tower/Set_OutputWaterSwitch?Web_Output_Switch=0')\n",
    "\n",
    "# 監聽開關元件的值變化\n",
    "output_switch.observe(on_output_switch_change, names='value')\n",
    "\n",
    "\n",
    "\n",
    "# W_LowLevelSetting 滑動條\n",
    "low_level_slider = widgets.FloatSlider(value=31.0, min=0, max=100, step=1.0, description='Low Level:')\n",
    "def on_low_level_change(change):\n",
    "    value = change['new']\n",
    "    send_request(f'http://127.0.0.1:9090/Http_Water_Tower/Set_LowLevel?W_LowLevelSetting={value}')\n",
    "\n",
    "low_level_slider.observe(on_low_level_change, names='value')\n",
    "\n",
    "# W_UpLevelSetting 滑動條\n",
    "up_level_slider = widgets.FloatSlider(value=77.0, min=0, max=100, step=1.0, description='Up Level:')\n",
    "def on_up_level_change(change):\n",
    "    value = change['new']\n",
    "    send_request(f'http://127.0.0.1:9090/Http_Water_Tower/Set_UpLevel?W_UpLevelSetting={value}')\n",
    "\n",
    "up_level_slider.observe(on_up_level_change, names='value')\n",
    "\n",
    "# W_IWSpeed 滑動條\n",
    "iw_speed_slider = widgets.FloatSlider(value=8.88, min=0, max=40, step=0.1, description='IW Speed:')\n",
    "def on_iw_speed_change(change):\n",
    "    value = change['new']\n",
    "    send_request(f'http://127.0.0.1:9090/Http_Water_Tower/Set_IWSpeed?W_IWSpeed={value}')\n",
    "\n",
    "iw_speed_slider.observe(on_iw_speed_change, names='value')\n",
    "\n",
    "# W_OWSpeed 滑動條\n",
    "ow_speed_slider = widgets.FloatSlider(value=3.33, min=0, max=40, step=0.1, description='OW Speed:')\n",
    "def on_ow_speed_change(change):\n",
    "    value = change['new']\n",
    "    send_request(f'http://127.0.0.1:9090/Http_Water_Tower/Set_OWSpeed?W_OWSpeed={value}')\n",
    "\n",
    "ow_speed_slider.observe(on_ow_speed_change, names='value')\n",
    "\n",
    "# 顯示開關元件、滑動條以及輸出區域\n",
    "display(input_switch)\n",
    "display(output_switch)\n",
    "display(low_level_slider)\n",
    "display(up_level_slider)\n",
    "display(iw_speed_slider)\n",
    "display(ow_speed_slider)\n",
    "display(output)"
   ]
  },
  {
   "cell_type": "markdown",
   "metadata": {},
   "source": []
  }
 ],
 "metadata": {
  "kernelspec": {
   "display_name": "Python 3",
   "language": "python",
   "name": "python3"
  },
  "language_info": {
   "codemirror_mode": {
    "name": "ipython",
    "version": 3
   },
   "file_extension": ".py",
   "mimetype": "text/x-python",
   "name": "python",
   "nbconvert_exporter": "python",
   "pygments_lexer": "ipython3",
   "version": "3.9.13"
  }
 },
 "nbformat": 4,
 "nbformat_minor": 2
}
