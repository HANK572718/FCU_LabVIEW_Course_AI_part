{
 "cells": [
  {
   "cell_type": "code",
   "execution_count": 2,
   "metadata": {},
   "outputs": [
    {
     "ename": "error",
     "evalue": "bad escape \\c at position 40 (line 1, column 41)",
     "output_type": "error",
     "traceback": [
      "\u001b[1;31m---------------------------------------------------------------------------\u001b[0m",
      "\u001b[1;31mKeyError\u001b[0m                                  Traceback (most recent call last)",
      "File \u001b[1;32me:\\installApp\\anaconda\\envs\\anomalib\\lib\\sre_parse.py:1051\u001b[0m, in \u001b[0;36mparse_template\u001b[1;34m(source, state)\u001b[0m\n\u001b[0;32m   1050\u001b[0m \u001b[38;5;28;01mtry\u001b[39;00m:\n\u001b[1;32m-> 1051\u001b[0m     this \u001b[38;5;241m=\u001b[39m \u001b[38;5;28mchr\u001b[39m(\u001b[43mESCAPES\u001b[49m\u001b[43m[\u001b[49m\u001b[43mthis\u001b[49m\u001b[43m]\u001b[49m[\u001b[38;5;241m1\u001b[39m])\n\u001b[0;32m   1052\u001b[0m \u001b[38;5;28;01mexcept\u001b[39;00m \u001b[38;5;167;01mKeyError\u001b[39;00m:\n",
      "\u001b[1;31mKeyError\u001b[0m: '\\\\c'",
      "\nDuring handling of the above exception, another exception occurred:\n",
      "\u001b[1;31merror\u001b[0m                                     Traceback (most recent call last)",
      "Cell \u001b[1;32mIn[2], line 26\u001b[0m\n\u001b[0;32m     24\u001b[0m     whl_path \u001b[38;5;241m=\u001b[39m os\u001b[38;5;241m.\u001b[39mpath\u001b[38;5;241m.\u001b[39mjoin(whl_folder, whl_file)\n\u001b[0;32m     25\u001b[0m     \u001b[38;5;66;03m# new_line = pattern.sub(f'{whl_path}', line)\u001b[39;00m\n\u001b[1;32m---> 26\u001b[0m     new_line \u001b[38;5;241m=\u001b[39m \u001b[43mpattern\u001b[49m\u001b[38;5;241;43m.\u001b[39;49m\u001b[43msub\u001b[49m\u001b[43m(\u001b[49m\u001b[38;5;124;43mrf\u001b[39;49m\u001b[38;5;124;43m'\u001b[39;49m\u001b[38;5;132;43;01m{\u001b[39;49;00m\u001b[43mwhl_path\u001b[49m\u001b[38;5;132;43;01m}\u001b[39;49;00m\u001b[38;5;124;43m'\u001b[39;49m\u001b[43m,\u001b[49m\u001b[43m \u001b[49m\u001b[43mline\u001b[49m\u001b[43m)\u001b[49m\n\u001b[0;32m     27\u001b[0m     new_lines\u001b[38;5;241m.\u001b[39mappend(new_line)\n\u001b[0;32m     28\u001b[0m \u001b[38;5;28;01melse\u001b[39;00m:\n",
      "File \u001b[1;32me:\\installApp\\anaconda\\envs\\anomalib\\lib\\re.py:326\u001b[0m, in \u001b[0;36m_subx\u001b[1;34m(pattern, template)\u001b[0m\n\u001b[0;32m    324\u001b[0m \u001b[38;5;28;01mdef\u001b[39;00m \u001b[38;5;21m_subx\u001b[39m(pattern, template):\n\u001b[0;32m    325\u001b[0m     \u001b[38;5;66;03m# internal: Pattern.sub/subn implementation helper\u001b[39;00m\n\u001b[1;32m--> 326\u001b[0m     template \u001b[38;5;241m=\u001b[39m \u001b[43m_compile_repl\u001b[49m\u001b[43m(\u001b[49m\u001b[43mtemplate\u001b[49m\u001b[43m,\u001b[49m\u001b[43m \u001b[49m\u001b[43mpattern\u001b[49m\u001b[43m)\u001b[49m\n\u001b[0;32m    327\u001b[0m     \u001b[38;5;28;01mif\u001b[39;00m \u001b[38;5;129;01mnot\u001b[39;00m template[\u001b[38;5;241m0\u001b[39m] \u001b[38;5;129;01mand\u001b[39;00m \u001b[38;5;28mlen\u001b[39m(template[\u001b[38;5;241m1\u001b[39m]) \u001b[38;5;241m==\u001b[39m \u001b[38;5;241m1\u001b[39m:\n\u001b[0;32m    328\u001b[0m         \u001b[38;5;66;03m# literal replacement\u001b[39;00m\n\u001b[0;32m    329\u001b[0m         \u001b[38;5;28;01mreturn\u001b[39;00m template[\u001b[38;5;241m1\u001b[39m][\u001b[38;5;241m0\u001b[39m]\n",
      "File \u001b[1;32me:\\installApp\\anaconda\\envs\\anomalib\\lib\\re.py:317\u001b[0m, in \u001b[0;36m_compile_repl\u001b[1;34m(repl, pattern)\u001b[0m\n\u001b[0;32m    314\u001b[0m \u001b[38;5;129m@functools\u001b[39m\u001b[38;5;241m.\u001b[39mlru_cache(_MAXCACHE)\n\u001b[0;32m    315\u001b[0m \u001b[38;5;28;01mdef\u001b[39;00m \u001b[38;5;21m_compile_repl\u001b[39m(repl, pattern):\n\u001b[0;32m    316\u001b[0m     \u001b[38;5;66;03m# internal: compile replacement pattern\u001b[39;00m\n\u001b[1;32m--> 317\u001b[0m     \u001b[38;5;28;01mreturn\u001b[39;00m \u001b[43msre_parse\u001b[49m\u001b[38;5;241;43m.\u001b[39;49m\u001b[43mparse_template\u001b[49m\u001b[43m(\u001b[49m\u001b[43mrepl\u001b[49m\u001b[43m,\u001b[49m\u001b[43m \u001b[49m\u001b[43mpattern\u001b[49m\u001b[43m)\u001b[49m\n",
      "File \u001b[1;32me:\\installApp\\anaconda\\envs\\anomalib\\lib\\sre_parse.py:1054\u001b[0m, in \u001b[0;36mparse_template\u001b[1;34m(source, state)\u001b[0m\n\u001b[0;32m   1052\u001b[0m         \u001b[38;5;28;01mexcept\u001b[39;00m \u001b[38;5;167;01mKeyError\u001b[39;00m:\n\u001b[0;32m   1053\u001b[0m             \u001b[38;5;28;01mif\u001b[39;00m c \u001b[38;5;129;01min\u001b[39;00m ASCIILETTERS:\n\u001b[1;32m-> 1054\u001b[0m                 \u001b[38;5;28;01mraise\u001b[39;00m s\u001b[38;5;241m.\u001b[39merror(\u001b[38;5;124m'\u001b[39m\u001b[38;5;124mbad escape \u001b[39m\u001b[38;5;132;01m%s\u001b[39;00m\u001b[38;5;124m'\u001b[39m \u001b[38;5;241m%\u001b[39m this, \u001b[38;5;28mlen\u001b[39m(this))\n\u001b[0;32m   1055\u001b[0m         lappend(this)\n\u001b[0;32m   1056\u001b[0m \u001b[38;5;28;01melse\u001b[39;00m:\n",
      "\u001b[1;31merror\u001b[0m: bad escape \\c at position 40 (line 1, column 41)"
     ]
    }
   ],
   "source": [
    "import os\n",
    "import re\n",
    "\n",
    "# 你的 requirements.txt 文件路徑\n",
    "requirements_path = 'requirements.txt'\n",
    "# 存放 .whl 文件的資料夾路徑\n",
    "# whl_folder = r'E:\\big\\FCU_LabVIEW_Course_AI_part\\wheels'\n",
    "whl_folder = 'E:/big/FCU_LabVIEW_Course_AI_part/wheels'\n",
    "\n",
    "# 讀取原始 requirements.txt 文件\n",
    "with open(requirements_path, 'r', encoding='utf-8') as file:\n",
    "    lines = file.readlines()\n",
    "\n",
    "# 定義用於替換的正則表達式模式\n",
    "pattern = re.compile(r'@.*#')\n",
    "\n",
    "# 逐行處理，替換 `@` 及其後面的路徑為指定資料夾路徑\n",
    "new_lines = []\n",
    "for line in lines:\n",
    "    if '@' in line:\n",
    "        # 提取 package 名稱\n",
    "        package_name = line.split('==')[0]\n",
    "        whl_file = f'{package_name.replace(\"-\", \"_\")}-*.whl'\n",
    "        whl_path = os.path.join(whl_folder, whl_file)\n",
    "        # new_line = pattern.sub(f'{whl_path}', line)\n",
    "        new_line = pattern.sub(rf'{whl_path}', line)\n",
    "        new_lines.append(new_line)\n",
    "    else:\n",
    "        new_lines.append(line)\n",
    "\n",
    "# 將修改後的內容寫入新的 requirements.txt 文件\n",
    "with open(requirements_path, 'w', encoding='utf-8') as file:\n",
    "    file.writelines(new_lines)\n",
    "\n",
    "print(\"requirements.txt 文件已更新。\")\n"
   ]
  },
  {
   "cell_type": "code",
   "execution_count": 3,
   "metadata": {},
   "outputs": [
    {
     "ename": "error",
     "evalue": "bad escape \\F at position 6 (line 1, column 7)",
     "output_type": "error",
     "traceback": [
      "\u001b[1;31m---------------------------------------------------------------------------\u001b[0m",
      "\u001b[1;31mKeyError\u001b[0m                                  Traceback (most recent call last)",
      "File \u001b[1;32me:\\installApp\\anaconda\\envs\\anomalib\\lib\\sre_parse.py:1051\u001b[0m, in \u001b[0;36mparse_template\u001b[1;34m(source, state)\u001b[0m\n\u001b[0;32m   1050\u001b[0m \u001b[38;5;28;01mtry\u001b[39;00m:\n\u001b[1;32m-> 1051\u001b[0m     this \u001b[38;5;241m=\u001b[39m \u001b[38;5;28mchr\u001b[39m(\u001b[43mESCAPES\u001b[49m\u001b[43m[\u001b[49m\u001b[43mthis\u001b[49m\u001b[43m]\u001b[49m[\u001b[38;5;241m1\u001b[39m])\n\u001b[0;32m   1052\u001b[0m \u001b[38;5;28;01mexcept\u001b[39;00m \u001b[38;5;167;01mKeyError\u001b[39;00m:\n",
      "\u001b[1;31mKeyError\u001b[0m: '\\\\F'",
      "\nDuring handling of the above exception, another exception occurred:\n",
      "\u001b[1;31merror\u001b[0m                                     Traceback (most recent call last)",
      "Cell \u001b[1;32mIn[3], line 24\u001b[0m\n\u001b[0;32m     22\u001b[0m     whl_file \u001b[38;5;241m=\u001b[39m \u001b[38;5;124mf\u001b[39m\u001b[38;5;124m'\u001b[39m\u001b[38;5;132;01m{\u001b[39;00mpackage_name\u001b[38;5;241m.\u001b[39mreplace(\u001b[38;5;124m\"\u001b[39m\u001b[38;5;124m-\u001b[39m\u001b[38;5;124m\"\u001b[39m,\u001b[38;5;250m \u001b[39m\u001b[38;5;124m\"\u001b[39m\u001b[38;5;124m_\u001b[39m\u001b[38;5;124m\"\u001b[39m)\u001b[38;5;132;01m}\u001b[39;00m\u001b[38;5;124m-*.whl\u001b[39m\u001b[38;5;124m'\u001b[39m\n\u001b[0;32m     23\u001b[0m     whl_path \u001b[38;5;241m=\u001b[39m os\u001b[38;5;241m.\u001b[39mpath\u001b[38;5;241m.\u001b[39mnormpath(os\u001b[38;5;241m.\u001b[39mpath\u001b[38;5;241m.\u001b[39mjoin(whl_folder, whl_file))  \u001b[38;5;66;03m# 確保路徑格式正確\u001b[39;00m\n\u001b[1;32m---> 24\u001b[0m     new_line \u001b[38;5;241m=\u001b[39m \u001b[43mpattern\u001b[49m\u001b[38;5;241;43m.\u001b[39;49m\u001b[43msub\u001b[49m\u001b[43m(\u001b[49m\u001b[38;5;124;43mf\u001b[39;49m\u001b[38;5;124;43m'\u001b[39;49m\u001b[38;5;132;43;01m{\u001b[39;49;00m\u001b[43mwhl_path\u001b[49m\u001b[38;5;132;43;01m}\u001b[39;49;00m\u001b[38;5;124;43m'\u001b[39;49m\u001b[43m,\u001b[49m\u001b[43m \u001b[49m\u001b[43mline\u001b[49m\u001b[43m)\u001b[49m  \u001b[38;5;66;03m# 使用 f-string 或者直接在這裡替換\u001b[39;00m\n\u001b[0;32m     25\u001b[0m     new_lines\u001b[38;5;241m.\u001b[39mappend(new_line)\n\u001b[0;32m     26\u001b[0m \u001b[38;5;28;01melse\u001b[39;00m:\n",
      "File \u001b[1;32me:\\installApp\\anaconda\\envs\\anomalib\\lib\\re.py:326\u001b[0m, in \u001b[0;36m_subx\u001b[1;34m(pattern, template)\u001b[0m\n\u001b[0;32m    324\u001b[0m \u001b[38;5;28;01mdef\u001b[39;00m \u001b[38;5;21m_subx\u001b[39m(pattern, template):\n\u001b[0;32m    325\u001b[0m     \u001b[38;5;66;03m# internal: Pattern.sub/subn implementation helper\u001b[39;00m\n\u001b[1;32m--> 326\u001b[0m     template \u001b[38;5;241m=\u001b[39m \u001b[43m_compile_repl\u001b[49m\u001b[43m(\u001b[49m\u001b[43mtemplate\u001b[49m\u001b[43m,\u001b[49m\u001b[43m \u001b[49m\u001b[43mpattern\u001b[49m\u001b[43m)\u001b[49m\n\u001b[0;32m    327\u001b[0m     \u001b[38;5;28;01mif\u001b[39;00m \u001b[38;5;129;01mnot\u001b[39;00m template[\u001b[38;5;241m0\u001b[39m] \u001b[38;5;129;01mand\u001b[39;00m \u001b[38;5;28mlen\u001b[39m(template[\u001b[38;5;241m1\u001b[39m]) \u001b[38;5;241m==\u001b[39m \u001b[38;5;241m1\u001b[39m:\n\u001b[0;32m    328\u001b[0m         \u001b[38;5;66;03m# literal replacement\u001b[39;00m\n\u001b[0;32m    329\u001b[0m         \u001b[38;5;28;01mreturn\u001b[39;00m template[\u001b[38;5;241m1\u001b[39m][\u001b[38;5;241m0\u001b[39m]\n",
      "File \u001b[1;32me:\\installApp\\anaconda\\envs\\anomalib\\lib\\re.py:317\u001b[0m, in \u001b[0;36m_compile_repl\u001b[1;34m(repl, pattern)\u001b[0m\n\u001b[0;32m    314\u001b[0m \u001b[38;5;129m@functools\u001b[39m\u001b[38;5;241m.\u001b[39mlru_cache(_MAXCACHE)\n\u001b[0;32m    315\u001b[0m \u001b[38;5;28;01mdef\u001b[39;00m \u001b[38;5;21m_compile_repl\u001b[39m(repl, pattern):\n\u001b[0;32m    316\u001b[0m     \u001b[38;5;66;03m# internal: compile replacement pattern\u001b[39;00m\n\u001b[1;32m--> 317\u001b[0m     \u001b[38;5;28;01mreturn\u001b[39;00m \u001b[43msre_parse\u001b[49m\u001b[38;5;241;43m.\u001b[39;49m\u001b[43mparse_template\u001b[49m\u001b[43m(\u001b[49m\u001b[43mrepl\u001b[49m\u001b[43m,\u001b[49m\u001b[43m \u001b[49m\u001b[43mpattern\u001b[49m\u001b[43m)\u001b[49m\n",
      "File \u001b[1;32me:\\installApp\\anaconda\\envs\\anomalib\\lib\\sre_parse.py:1054\u001b[0m, in \u001b[0;36mparse_template\u001b[1;34m(source, state)\u001b[0m\n\u001b[0;32m   1052\u001b[0m         \u001b[38;5;28;01mexcept\u001b[39;00m \u001b[38;5;167;01mKeyError\u001b[39;00m:\n\u001b[0;32m   1053\u001b[0m             \u001b[38;5;28;01mif\u001b[39;00m c \u001b[38;5;129;01min\u001b[39;00m ASCIILETTERS:\n\u001b[1;32m-> 1054\u001b[0m                 \u001b[38;5;28;01mraise\u001b[39;00m s\u001b[38;5;241m.\u001b[39merror(\u001b[38;5;124m'\u001b[39m\u001b[38;5;124mbad escape \u001b[39m\u001b[38;5;132;01m%s\u001b[39;00m\u001b[38;5;124m'\u001b[39m \u001b[38;5;241m%\u001b[39m this, \u001b[38;5;28mlen\u001b[39m(this))\n\u001b[0;32m   1055\u001b[0m         lappend(this)\n\u001b[0;32m   1056\u001b[0m \u001b[38;5;28;01melse\u001b[39;00m:\n",
      "\u001b[1;31merror\u001b[0m: bad escape \\F at position 6 (line 1, column 7)"
     ]
    }
   ],
   "source": [
    "import os\n",
    "import re\n",
    "\n",
    "# 你的 requirements.txt 文件路徑\n",
    "requirements_path = 'requirements.txt'\n",
    "# 存放 .whl 文件的資料夾路徑\n",
    "whl_folder = 'E:/big/FCU_LabVIEW_Course_AI_part/wheels'\n",
    "\n",
    "# 讀取原始 requirements.txt 文件\n",
    "with open(requirements_path, 'r', encoding='utf-8') as file:\n",
    "    lines = file.readlines()\n",
    "\n",
    "# 定義用於替換的正則表達式模式\n",
    "pattern = re.compile(r'@.*#')\n",
    "\n",
    "# 逐行處理，替換 `@` 及其後面的路徑為指定資料夾路徑\n",
    "new_lines = []\n",
    "for line in lines:\n",
    "    if '@' in line:\n",
    "        # 提取 package 名稱\n",
    "        package_name = line.split('==')[0]\n",
    "        whl_file = f'{package_name.replace(\"-\", \"_\")}-*.whl'\n",
    "        whl_path = os.path.normpath(os.path.join(whl_folder, whl_file))  # 確保路徑格式正確\n",
    "        new_line = pattern.sub(f'{whl_path}', line)  # 使用 f-string 或者直接在這裡替換\n",
    "        new_lines.append(new_line)\n",
    "    else:\n",
    "        new_lines.append(line)\n",
    "\n",
    "# 將修改後的內容寫入新的 requirements.txt 文件\n",
    "with open(requirements_path, 'w', encoding='utf-8') as file:\n",
    "    file.writelines(new_lines)\n",
    "\n",
    "print(\"requirements.txt 文件已更新。\")"
   ]
  },
  {
   "cell_type": "code",
   "execution_count": 4,
   "metadata": {},
   "outputs": [
    {
     "ename": "error",
     "evalue": "bad escape \\F at position 6 (line 1, column 7)",
     "output_type": "error",
     "traceback": [
      "\u001b[1;31m---------------------------------------------------------------------------\u001b[0m",
      "\u001b[1;31mKeyError\u001b[0m                                  Traceback (most recent call last)",
      "File \u001b[1;32me:\\installApp\\anaconda\\envs\\anomalib\\lib\\sre_parse.py:1051\u001b[0m, in \u001b[0;36mparse_template\u001b[1;34m(source, state)\u001b[0m\n\u001b[0;32m   1050\u001b[0m \u001b[38;5;28;01mtry\u001b[39;00m:\n\u001b[1;32m-> 1051\u001b[0m     this \u001b[38;5;241m=\u001b[39m \u001b[38;5;28mchr\u001b[39m(\u001b[43mESCAPES\u001b[49m\u001b[43m[\u001b[49m\u001b[43mthis\u001b[49m\u001b[43m]\u001b[49m[\u001b[38;5;241m1\u001b[39m])\n\u001b[0;32m   1052\u001b[0m \u001b[38;5;28;01mexcept\u001b[39;00m \u001b[38;5;167;01mKeyError\u001b[39;00m:\n",
      "\u001b[1;31mKeyError\u001b[0m: '\\\\F'",
      "\nDuring handling of the above exception, another exception occurred:\n",
      "\u001b[1;31merror\u001b[0m                                     Traceback (most recent call last)",
      "Cell \u001b[1;32mIn[4], line 25\u001b[0m\n\u001b[0;32m     23\u001b[0m     whl_path \u001b[38;5;241m=\u001b[39m os\u001b[38;5;241m.\u001b[39mpath\u001b[38;5;241m.\u001b[39mnormpath(os\u001b[38;5;241m.\u001b[39mpath\u001b[38;5;241m.\u001b[39mjoin(whl_folder, whl_file))  \u001b[38;5;66;03m# 確保路徑格式正確\u001b[39;00m\n\u001b[0;32m     24\u001b[0m     \u001b[38;5;66;03m# 在這裡進行替換，直接使用 `whl_path`\u001b[39;00m\n\u001b[1;32m---> 25\u001b[0m     new_line \u001b[38;5;241m=\u001b[39m \u001b[43mpattern\u001b[49m\u001b[38;5;241;43m.\u001b[39;49m\u001b[43msub\u001b[49m\u001b[43m(\u001b[49m\u001b[38;5;124;43mf\u001b[39;49m\u001b[38;5;124;43m'\u001b[39;49m\u001b[38;5;132;43;01m{\u001b[39;49;00m\u001b[43mwhl_path\u001b[49m\u001b[38;5;132;43;01m}\u001b[39;49;00m\u001b[38;5;124;43m'\u001b[39;49m\u001b[43m,\u001b[49m\u001b[43m \u001b[49m\u001b[43mline\u001b[49m\u001b[43m)\u001b[49m \u001b[38;5;66;03m# `<replace>` 是一個字符串，正確無誤\u001b[39;00m\n\u001b[0;32m     26\u001b[0m     new_lines\u001b[38;5;241m.\u001b[39mappend(new_line)\n\u001b[0;32m     27\u001b[0m \u001b[38;5;28;01melse\u001b[39;00m:\n",
      "File \u001b[1;32me:\\installApp\\anaconda\\envs\\anomalib\\lib\\re.py:326\u001b[0m, in \u001b[0;36m_subx\u001b[1;34m(pattern, template)\u001b[0m\n\u001b[0;32m    324\u001b[0m \u001b[38;5;28;01mdef\u001b[39;00m \u001b[38;5;21m_subx\u001b[39m(pattern, template):\n\u001b[0;32m    325\u001b[0m     \u001b[38;5;66;03m# internal: Pattern.sub/subn implementation helper\u001b[39;00m\n\u001b[1;32m--> 326\u001b[0m     template \u001b[38;5;241m=\u001b[39m \u001b[43m_compile_repl\u001b[49m\u001b[43m(\u001b[49m\u001b[43mtemplate\u001b[49m\u001b[43m,\u001b[49m\u001b[43m \u001b[49m\u001b[43mpattern\u001b[49m\u001b[43m)\u001b[49m\n\u001b[0;32m    327\u001b[0m     \u001b[38;5;28;01mif\u001b[39;00m \u001b[38;5;129;01mnot\u001b[39;00m template[\u001b[38;5;241m0\u001b[39m] \u001b[38;5;129;01mand\u001b[39;00m \u001b[38;5;28mlen\u001b[39m(template[\u001b[38;5;241m1\u001b[39m]) \u001b[38;5;241m==\u001b[39m \u001b[38;5;241m1\u001b[39m:\n\u001b[0;32m    328\u001b[0m         \u001b[38;5;66;03m# literal replacement\u001b[39;00m\n\u001b[0;32m    329\u001b[0m         \u001b[38;5;28;01mreturn\u001b[39;00m template[\u001b[38;5;241m1\u001b[39m][\u001b[38;5;241m0\u001b[39m]\n",
      "File \u001b[1;32me:\\installApp\\anaconda\\envs\\anomalib\\lib\\re.py:317\u001b[0m, in \u001b[0;36m_compile_repl\u001b[1;34m(repl, pattern)\u001b[0m\n\u001b[0;32m    314\u001b[0m \u001b[38;5;129m@functools\u001b[39m\u001b[38;5;241m.\u001b[39mlru_cache(_MAXCACHE)\n\u001b[0;32m    315\u001b[0m \u001b[38;5;28;01mdef\u001b[39;00m \u001b[38;5;21m_compile_repl\u001b[39m(repl, pattern):\n\u001b[0;32m    316\u001b[0m     \u001b[38;5;66;03m# internal: compile replacement pattern\u001b[39;00m\n\u001b[1;32m--> 317\u001b[0m     \u001b[38;5;28;01mreturn\u001b[39;00m \u001b[43msre_parse\u001b[49m\u001b[38;5;241;43m.\u001b[39;49m\u001b[43mparse_template\u001b[49m\u001b[43m(\u001b[49m\u001b[43mrepl\u001b[49m\u001b[43m,\u001b[49m\u001b[43m \u001b[49m\u001b[43mpattern\u001b[49m\u001b[43m)\u001b[49m\n",
      "File \u001b[1;32me:\\installApp\\anaconda\\envs\\anomalib\\lib\\sre_parse.py:1054\u001b[0m, in \u001b[0;36mparse_template\u001b[1;34m(source, state)\u001b[0m\n\u001b[0;32m   1052\u001b[0m         \u001b[38;5;28;01mexcept\u001b[39;00m \u001b[38;5;167;01mKeyError\u001b[39;00m:\n\u001b[0;32m   1053\u001b[0m             \u001b[38;5;28;01mif\u001b[39;00m c \u001b[38;5;129;01min\u001b[39;00m ASCIILETTERS:\n\u001b[1;32m-> 1054\u001b[0m                 \u001b[38;5;28;01mraise\u001b[39;00m s\u001b[38;5;241m.\u001b[39merror(\u001b[38;5;124m'\u001b[39m\u001b[38;5;124mbad escape \u001b[39m\u001b[38;5;132;01m%s\u001b[39;00m\u001b[38;5;124m'\u001b[39m \u001b[38;5;241m%\u001b[39m this, \u001b[38;5;28mlen\u001b[39m(this))\n\u001b[0;32m   1055\u001b[0m         lappend(this)\n\u001b[0;32m   1056\u001b[0m \u001b[38;5;28;01melse\u001b[39;00m:\n",
      "\u001b[1;31merror\u001b[0m: bad escape \\F at position 6 (line 1, column 7)"
     ]
    }
   ],
   "source": [
    "import os\n",
    "import re\n",
    "\n",
    "# 你的 requirements.txt 文件路徑\n",
    "requirements_path = 'requirements.txt'\n",
    "# 存放 .whl 文件的資料夾路徑\n",
    "whl_folder = 'E:/big/FCU_LabVIEW_Course_AI_part/wheels'\n",
    "\n",
    "# 讀取原始 requirements.txt 文件\n",
    "with open(requirements_path, 'r', encoding='utf-8') as file:\n",
    "    lines = file.readlines()\n",
    "\n",
    "# 定義用於替換的正則表達式模式\n",
    "pattern = re.compile(r'@.*#')\n",
    "\n",
    "# 逐行處理，替換 `@` 及其後面的路徑為指定資料夾路徑\n",
    "new_lines = []\n",
    "for line in lines:\n",
    "    if '@' in line:\n",
    "        # 提取 package 名稱\n",
    "        package_name = line.split('==')[0]\n",
    "        whl_file = f'{package_name.replace(\"-\", \"_\")}-*.whl'\n",
    "        whl_path = os.path.normpath(os.path.join(whl_folder, whl_file))  # 確保路徑格式正確\n",
    "        # 在這裡進行替換，直接使用 `whl_path`\n",
    "        new_line = pattern.sub(f'{whl_path}', line) # `<replace>` 是一個字符串，正確無誤\n",
    "        new_lines.append(new_line)\n",
    "    else:\n",
    "        new_lines.append(line)\n",
    "\n",
    "# 將修改後的內容寫入新的 requirements.txt 文件\n",
    "with open(requirements_path, 'w', encoding='utf-8') as file:\n",
    "    file.writelines(new_lines)\n",
    "\n",
    "print(\"requirements.txt 文件已更新。\")"
   ]
  },
  {
   "cell_type": "code",
   "execution_count": 5,
   "metadata": {},
   "outputs": [
    {
     "name": "stdout",
     "output_type": "stream",
     "text": [
      "requirements.txt 文件已更新。\n"
     ]
    }
   ],
   "source": [
    "import os\n",
    "import re\n",
    "\n",
    "# 你的 requirements.txt 文件路徑\n",
    "requirements_path = 'requirements.txt'\n",
    "# 存放 .whl 文件的資料夾路徑\n",
    "whl_folder = 'E:/big/FCU_LabVIEW_Course_AI_part/wheels'  # 使用正斜線\n",
    "\n",
    "# 讀取原始 requirements.txt 文件\n",
    "with open(requirements_path, 'r', encoding='utf-8') as file:\n",
    "    lines = file.readlines()\n",
    "\n",
    "# 定義用於替換的正則表達式模式\n",
    "pattern = re.compile(r'@.*')\n",
    "\n",
    "# 逐行處理，替換 `@` 及其後面的路徑為指定資料夾路徑\n",
    "new_lines = []\n",
    "for line in lines:\n",
    "    if '@' in line:\n",
    "        # 提取 package 名稱\n",
    "        package_name = line.split('==')[0].strip()\n",
    "        whl_file = f'{package_name.replace(\"-\", \"_\")}-*.whl'\n",
    "        \n",
    "        # 確保路徑格式正確，並使用正斜線\n",
    "        whl_path = os.path.normpath(os.path.join(whl_folder, whl_file))\n",
    "        whl_path = whl_path.replace('\\\\', '/')  # 確保使用正斜線，避免轉義問題\n",
    "        \n",
    "        # 在這裡進行替換，直接使用 `whl_path`\n",
    "        new_line = pattern.sub(f'{whl_path}', line)  \n",
    "        new_lines.append(new_line)  # 添加修改後的行\n",
    "    else:\n",
    "        new_lines.append(line)  # 未修改的行\n",
    "\n",
    "# 將修改後的內容寫入新的 requirements.txt 文件\n",
    "with open(requirements_path, 'w', encoding='utf-8') as file:\n",
    "    file.writelines(new_lines)\n",
    "\n",
    "print(\"requirements.txt 文件已更新。\")"
   ]
  },
  {
   "cell_type": "code",
   "execution_count": null,
   "metadata": {},
   "outputs": [],
   "source": []
  }
 ],
 "metadata": {
  "kernelspec": {
   "display_name": "Python 3",
   "language": "python",
   "name": "python3"
  },
  "language_info": {
   "codemirror_mode": {
    "name": "ipython",
    "version": 3
   },
   "file_extension": ".py",
   "mimetype": "text/x-python",
   "name": "python",
   "nbconvert_exporter": "python",
   "pygments_lexer": "ipython3",
   "version": "3.10.12"
  }
 },
 "nbformat": 4,
 "nbformat_minor": 2
}
