{
 "cells": [
  {
   "cell_type": "code",
   "execution_count": 6,
   "metadata": {},
   "outputs": [
    {
     "name": "stdout",
     "output_type": "stream",
     "text": [
      "List returned: [True, True, False]\n",
      "Tuple returned: (3, 5, '[True, True, False]')\n",
      "Dict returned (JSON format): {\"String\": \"Test\", \"Number\": 2, \"Other number\": 3}\n"
     ]
    }
   ],
   "source": [
    "import json  # Required for the dict conversion\n",
    "\n",
    "# Global variable TestList\n",
    "TestList = [True, True, False]\n",
    "\n",
    "# Function to return TestList\n",
    "def return_list():\n",
    "    x = TestList\n",
    "    return x\n",
    "\n",
    "# Global variable TestTuple\n",
    "TestTuple = (3, 5, f\"{TestList}\")\n",
    "\n",
    "# Function to return a list containing TestTuple twice\n",
    "def return_tuple_list():\n",
    "    x = [TestTuple, TestTuple]\n",
    "    return x\n",
    "\n",
    "# Function to return a list containing TestTuple twice\n",
    "def return_tuple():\n",
    "    x = TestTuple\n",
    "    return x\n",
    "\n",
    "# Global variable TestDict\n",
    "TestDict = {\n",
    "    \"String\": \"Test\",\n",
    "    \"Number\": 2,\n",
    "    \"Other number\": 3\n",
    "}\n",
    "\n",
    "# Function to return TestDict as a JSON string\n",
    "def return_dict():\n",
    "    x = json.dumps(TestDict)\n",
    "    return x\n",
    "\n",
    "# Main execution block\n",
    "if __name__ == \"__main__\":\n",
    "    # Show results of the functions\n",
    "    res_list = return_list()\n",
    "    res_tuple = return_tuple()\n",
    "    res_dict = return_dict() \n",
    "    print(\"List returned:\", res_list)\n",
    "    print(\"Tuple returned:\", res_tuple)\n",
    "    print(\"Dict returned (JSON format):\", res_dict)\n",
    "    "
   ]
  },
  {
   "cell_type": "code",
   "execution_count": 7,
   "metadata": {},
   "outputs": [],
   "source": [
    "from rich import print as pprint"
   ]
  },
  {
   "cell_type": "code",
   "execution_count": 8,
   "metadata": {},
   "outputs": [
    {
     "data": {
      "text/html": [
       "<pre style=\"white-space:pre;overflow-x:auto;line-height:normal;font-family:Menlo,'DejaVu Sans Mono',consolas,'Courier New',monospace\"><span style=\"font-weight: bold\">&lt;</span><span style=\"color: #ff00ff; text-decoration-color: #ff00ff; font-weight: bold\">class</span><span style=\"color: #000000; text-decoration-color: #000000\"> </span><span style=\"color: #008000; text-decoration-color: #008000\">'list'</span><span style=\"font-weight: bold\">&gt;</span>\n",
       "</pre>\n"
      ],
      "text/plain": [
       "\u001b[1m<\u001b[0m\u001b[1;95mclass\u001b[0m\u001b[39m \u001b[0m\u001b[32m'list'\u001b[0m\u001b[1m>\u001b[0m\n"
      ]
     },
     "metadata": {},
     "output_type": "display_data"
    },
    {
     "data": {
      "text/html": [
       "<pre style=\"white-space:pre;overflow-x:auto;line-height:normal;font-family:Menlo,'DejaVu Sans Mono',consolas,'Courier New',monospace\"><span style=\"font-weight: bold\">&lt;</span><span style=\"color: #ff00ff; text-decoration-color: #ff00ff; font-weight: bold\">class</span><span style=\"color: #000000; text-decoration-color: #000000\"> </span><span style=\"color: #008000; text-decoration-color: #008000\">'tuple'</span><span style=\"font-weight: bold\">&gt;</span>\n",
       "</pre>\n"
      ],
      "text/plain": [
       "\u001b[1m<\u001b[0m\u001b[1;95mclass\u001b[0m\u001b[39m \u001b[0m\u001b[32m'tuple'\u001b[0m\u001b[1m>\u001b[0m\n"
      ]
     },
     "metadata": {},
     "output_type": "display_data"
    },
    {
     "data": {
      "text/html": [
       "<pre style=\"white-space:pre;overflow-x:auto;line-height:normal;font-family:Menlo,'DejaVu Sans Mono',consolas,'Courier New',monospace\"><span style=\"font-weight: bold\">&lt;</span><span style=\"color: #ff00ff; text-decoration-color: #ff00ff; font-weight: bold\">class</span><span style=\"color: #000000; text-decoration-color: #000000\"> </span><span style=\"color: #008000; text-decoration-color: #008000\">'str'</span><span style=\"font-weight: bold\">&gt;</span>\n",
       "</pre>\n"
      ],
      "text/plain": [
       "\u001b[1m<\u001b[0m\u001b[1;95mclass\u001b[0m\u001b[39m \u001b[0m\u001b[32m'str'\u001b[0m\u001b[1m>\u001b[0m\n"
      ]
     },
     "metadata": {},
     "output_type": "display_data"
    }
   ],
   "source": [
    "pprint(type(res_list))\n",
    "pprint(type(res_tuple))\n",
    "pprint(type(res_dict))"
   ]
  },
  {
   "cell_type": "code",
   "execution_count": null,
   "metadata": {},
   "outputs": [],
   "source": []
  }
 ],
 "metadata": {
  "kernelspec": {
   "display_name": "Python 3",
   "language": "python",
   "name": "python3"
  },
  "language_info": {
   "codemirror_mode": {
    "name": "ipython",
    "version": 3
   },
   "file_extension": ".py",
   "mimetype": "text/x-python",
   "name": "python",
   "nbconvert_exporter": "python",
   "pygments_lexer": "ipython3",
   "version": "3.9.13"
  }
 },
 "nbformat": 4,
 "nbformat_minor": 2
}
