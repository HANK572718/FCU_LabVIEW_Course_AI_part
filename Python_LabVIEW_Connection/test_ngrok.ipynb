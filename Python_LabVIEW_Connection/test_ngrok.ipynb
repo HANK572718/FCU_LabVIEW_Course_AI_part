{
 "cells": [
  {
   "cell_type": "code",
   "execution_count": 1,
   "metadata": {},
   "outputs": [],
   "source": [
    "from pyngrok import ngrok\n",
    "# from google.colab import userdata\n",
    "\n",
    "\n",
    "# 更改這裡的 your-authtoken 為您 ngrok 帳戶上的 authtoken\n",
    "# ngrok.set_auth_token(userdata.get('NGROK_API_KEY'))\n",
    "\n",
    "# ngrok.set_auth_token('your API KEY')\n"
   ]
  },
  {
   "cell_type": "code",
   "execution_count": 2,
   "metadata": {},
   "outputs": [
    {
     "name": "stdout",
     "output_type": "stream",
     "text": [
      "ngrok 公共 URL: NgrokTunnel: \"https://808a-61-221-125-104.ngrok-free.app\" -> \"http://localhost:11434\"\n"
     ]
    }
   ],
   "source": [
    "# 引入 ngrok 模組\n",
    "from pyngrok import ngrok\n",
    "\n",
    "# 開放 ngrok 端口\n",
    "# public_url = ngrok.connect(11434, \"http\", options={\"host_header\": \"rewrite\"})\n",
    "public_url = ngrok.connect(addr=\"localhost:11434\", proto=\"http\", name=\"my-tunnel\", host_header=\"rewrite\")\n",
    "\n",
    "# public_url = ngrok.connect(11434, \"http\")\n",
    "print(\"ngrok 公共 URL:\", public_url)"
   ]
  },
  {
   "cell_type": "code",
   "execution_count": 7,
   "metadata": {},
   "outputs": [],
   "source": [
    "import requests as r\n",
    "from rich import print as pprint\n",
    "import json"
   ]
  },
  {
   "cell_type": "code",
   "execution_count": 21,
   "metadata": {},
   "outputs": [
    {
     "data": {
      "text/html": [
       "<pre style=\"white-space:pre;overflow-x:auto;line-height:normal;font-family:Menlo,'DejaVu Sans Mono',consolas,'Courier New',monospace\"><span style=\"color: #008080; text-decoration-color: #008080; font-weight: bold\">404</span>\n",
       "</pre>\n"
      ],
      "text/plain": [
       "\u001b[1;36m404\u001b[0m\n"
      ]
     },
     "metadata": {},
     "output_type": "display_data"
    },
    {
     "data": {
      "text/html": [
       "<pre style=\"white-space:pre;overflow-x:auto;line-height:normal;font-family:Menlo,'DejaVu Sans Mono',consolas,'Courier New',monospace\"><span style=\"font-weight: bold\">{</span><span style=\"color: #008000; text-decoration-color: #008000\">'error'</span>: <span style=\"color: #008000; text-decoration-color: #008000\">'model \"phi3\" not found, try pulling it first'</span><span style=\"font-weight: bold\">}</span>\n",
       "</pre>\n"
      ],
      "text/plain": [
       "\u001b[1m{\u001b[0m\u001b[32m'error'\u001b[0m: \u001b[32m'model \"phi3\" not found, try pulling it first'\u001b[0m\u001b[1m}\u001b[0m\n"
      ]
     },
     "metadata": {},
     "output_type": "display_data"
    }
   ],
   "source": [
    "data = {\n",
    "    # \"model\": \"llama3.1\",\n",
    "    \"model\": \"phi3\",\n",
    "    \"messages\": [\n",
    "        {\"role\": \"user\", \"content\": \"3+3+3+3+3=?\"}\n",
    "    ],\n",
    "    \"stream\": False\n",
    "}\n",
    "res = r.post('https://808a-61-221-125-104.ngrok-free.app/api/chat',json=data)\n",
    "pprint(res.status_code)\n",
    "pprint(res.json())"
   ]
  },
  {
   "cell_type": "code",
   "execution_count": null,
   "metadata": {},
   "outputs": [],
   "source": []
  }
 ],
 "metadata": {
  "kernelspec": {
   "display_name": ".venv",
   "language": "python",
   "name": "python3"
  },
  "language_info": {
   "codemirror_mode": {
    "name": "ipython",
    "version": 3
   },
   "file_extension": ".py",
   "mimetype": "text/x-python",
   "name": "python",
   "nbconvert_exporter": "python",
   "pygments_lexer": "ipython3",
   "version": "3.9.13"
  }
 },
 "nbformat": 4,
 "nbformat_minor": 2
}
